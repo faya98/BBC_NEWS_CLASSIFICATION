{
  "nbformat": 4,
  "nbformat_minor": 0,
  "metadata": {
    "colab": {
      "name": "bbc_news_classification.ipynb",
      "provenance": [],
      "collapsed_sections": [],
      "include_colab_link": true
    },
    "kernelspec": {
      "name": "python3",
      "display_name": "Python 3"
    },
    "language_info": {
      "name": "python"
    }
  },
  "cells": [
    {
      "cell_type": "markdown",
      "metadata": {
        "id": "view-in-github",
        "colab_type": "text"
      },
      "source": [
        "<a href=\"https://colab.research.google.com/github/faya98/BBC_NEWS_CLASSIFICATION/blob/main/bbc_news_classification.ipynb\" target=\"_parent\"><img src=\"https://colab.research.google.com/assets/colab-badge.svg\" alt=\"Open In Colab\"/></a>"
      ]
    },
    {
      "cell_type": "markdown",
      "source": [
        "# Importing necessary libraries"
      ],
      "metadata": {
        "id": "zWxMyPyG9a-z"
      }
    },
    {
      "cell_type": "code",
      "source": [
        "import numpy as np\n",
        "import csv  \n",
        "import pandas as pd\n",
        "import re\n",
        "import os\n",
        "import nltk\n",
        "nltk.download('wordnet')\n",
        "nltk.download('punkt')\n",
        "nltk.download('stopwords')\n",
        "from google.colab import files\n",
        "from zipfile import ZipFile\n",
        "from sklearn.model_selection import train_test_split\n",
        "from sklearn.feature_extraction.text import CountVectorizer\n",
        "from sklearn.feature_selection import SelectKBest, chi2, f_classif\n",
        "from sklearn.ensemble import RandomForestClassifier\n",
        "#from sklearn.svm import SVC\n",
        "from sklearn.linear_model import LogisticRegression\n",
        "#from sklearn.naive_bayes import MultinomialNB\n",
        "#from sklearn.tree import DecisionTreeClassifier\n",
        "from sklearn.metrics import accuracy_score\n",
        "from sklearn.feature_extraction.text import TfidfVectorizer\n",
        "from sklearn.metrics import precision_score,recall_score,f1_score"
      ],
      "metadata": {
        "id": "QRuxwVIZflO9",
        "colab": {
          "base_uri": "https://localhost:8080/"
        },
        "outputId": "696a492d-9759-4efc-f55a-25e3773d2f0e"
      },
      "execution_count": 1,
      "outputs": [
        {
          "output_type": "stream",
          "name": "stdout",
          "text": [
            "[nltk_data] Downloading package wordnet to /root/nltk_data...\n",
            "[nltk_data]   Unzipping corpora/wordnet.zip.\n",
            "[nltk_data] Downloading package punkt to /root/nltk_data...\n",
            "[nltk_data]   Unzipping tokenizers/punkt.zip.\n",
            "[nltk_data] Downloading package stopwords to /root/nltk_data...\n",
            "[nltk_data]   Unzipping corpora/stopwords.zip.\n"
          ]
        }
      ]
    },
    {
      "cell_type": "markdown",
      "source": [
        "# Upload datasets_coursework1.zip file as it is"
      ],
      "metadata": {
        "id": "_EEmnuAkh2ef"
      }
    },
    {
      "cell_type": "code",
      "execution_count": 2,
      "metadata": {
        "colab": {
          "resources": {
            "http://localhost:8080/nbextensions/google.colab/files.js": {
              "data": "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",
              "ok": true,
              "headers": [
                [
                  "content-type",
                  "application/javascript"
                ]
              ],
              "status": 200,
              "status_text": ""
            }
          },
          "base_uri": "https://localhost:8080/",
          "height": 74
        },
        "id": "cQbfv7PZjNPA",
        "outputId": "c90f2f9a-8682-43b5-cd86-0eaebbd62b1e"
      },
      "outputs": [
        {
          "output_type": "display_data",
          "data": {
            "text/html": [
              "\n",
              "     <input type=\"file\" id=\"files-12f117c9-3683-44ba-83c1-aca71d822219\" name=\"files[]\" multiple disabled\n",
              "        style=\"border:none\" />\n",
              "     <output id=\"result-12f117c9-3683-44ba-83c1-aca71d822219\">\n",
              "      Upload widget is only available when the cell has been executed in the\n",
              "      current browser session. Please rerun this cell to enable.\n",
              "      </output>\n",
              "      <script src=\"/nbextensions/google.colab/files.js\"></script> "
            ],
            "text/plain": [
              "<IPython.core.display.HTML object>"
            ]
          },
          "metadata": {}
        },
        {
          "output_type": "stream",
          "name": "stdout",
          "text": [
            "Saving bbc_news_dataset.zip to bbc_news_dataset.zip\n"
          ]
        }
      ],
      "source": [
        "uploaded = files.upload()"
      ]
    },
    {
      "cell_type": "markdown",
      "source": [
        "# Unzip the datasets_coursework1.zip file"
      ],
      "metadata": {
        "id": "2feNpfOn7ql3"
      }
    },
    {
      "cell_type": "code",
      "source": [
        "filename = \"bbc_news_dataset.zip\"\n",
        "with ZipFile(filename, 'r') as zip:\n",
        "  zip.extractall()"
      ],
      "metadata": {
        "id": "f8_O-cvwLvSk"
      },
      "execution_count": 3,
      "outputs": []
    },
    {
      "cell_type": "markdown",
      "source": [
        "# Data Extraction"
      ],
      "metadata": {
        "id": "__i10b6CiORW"
      }
    },
    {
      "cell_type": "markdown",
      "source": [
        "Reads through every text document and extracts the content"
      ],
      "metadata": {
        "id": "8mY6ung-Y0Fq"
      }
    },
    {
      "cell_type": "code",
      "source": [
        "data = []\n",
        "for (root,dirs,files) in sorted(os.walk('bbc')):\n",
        "  if root=='bbc': continue\n",
        "  category = root.replace('bbc/','')\n",
        "  for txt in sorted(files):\n",
        "    with open(root+'/'+txt,'r',encoding='latin1') as f:\n",
        "      data.append([f.read(),category])"
      ],
      "metadata": {
        "id": "nhaMEysJOlFL"
      },
      "execution_count": 4,
      "outputs": []
    },
    {
      "cell_type": "markdown",
      "source": [
        "# Convert the extracted data to CSV file"
      ],
      "metadata": {
        "id": "9U10aBtS76nj"
      }
    },
    {
      "cell_type": "code",
      "source": [
        "header = ['Data', 'Category']\n",
        "with open('bbc.csv', 'w') as f:\n",
        "    writer = csv.writer(f)\n",
        "    writer.writerow(header)\n",
        "    for news in data:\n",
        "      writer.writerow(news)"
      ],
      "metadata": {
        "id": "c2GVUsfoXXPf"
      },
      "execution_count": 5,
      "outputs": []
    },
    {
      "cell_type": "markdown",
      "source": [
        "## Reading the CSV file and looking at the basic information of the file contents"
      ],
      "metadata": {
        "id": "wUVSLoum8Y2S"
      }
    },
    {
      "cell_type": "markdown",
      "source": [
        "Read the csv file"
      ],
      "metadata": {
        "id": "KumfnKPt8-nY"
      }
    },
    {
      "cell_type": "code",
      "source": [
        "raw_data = pd.read_csv(\"bbc.csv\")"
      ],
      "metadata": {
        "id": "JgtkxTkSeyyd"
      },
      "execution_count": 6,
      "outputs": []
    },
    {
      "cell_type": "markdown",
      "source": [
        "Looking at the first few rows(5) of information"
      ],
      "metadata": {
        "id": "c2Z8Am6I81hv"
      }
    },
    {
      "cell_type": "code",
      "source": [
        "print(raw_data.head())"
      ],
      "metadata": {
        "colab": {
          "base_uri": "https://localhost:8080/"
        },
        "id": "CSI8WMdPLKtU",
        "outputId": "c1b7cb27-b37c-4825-d5b5-a1dfe1fced12"
      },
      "execution_count": 7,
      "outputs": [
        {
          "output_type": "stream",
          "name": "stdout",
          "text": [
            "                                                Data  Category\n",
            "0  Ad sales boost Time Warner profit\\n\\nQuarterly...  business\n",
            "1  Dollar gains on Greenspan speech\\n\\nThe dollar...  business\n",
            "2  Yukos unit buyer faces loan claim\\n\\nThe owner...  business\n",
            "3  High fuel prices hit BA's profits\\n\\nBritish A...  business\n",
            "4  Pernod takeover talk lifts Domecq\\n\\nShares in...  business\n"
          ]
        }
      ]
    },
    {
      "cell_type": "markdown",
      "source": [
        "Displaying the count of news articles in each type"
      ],
      "metadata": {
        "id": "mHMluu869FOh"
      }
    },
    {
      "cell_type": "code",
      "source": [
        "print(raw_data['Category'].value_counts())"
      ],
      "metadata": {
        "colab": {
          "base_uri": "https://localhost:8080/"
        },
        "id": "oXwI99OEyOHa",
        "outputId": "7380d0a2-9b6a-462e-e3dd-10d1eb4803a6"
      },
      "execution_count": 8,
      "outputs": [
        {
          "output_type": "stream",
          "name": "stdout",
          "text": [
            "sport            511\n",
            "business         510\n",
            "politics         417\n",
            "tech             401\n",
            "entertainment    386\n",
            "Name: Category, dtype: int64\n"
          ]
        }
      ]
    },
    {
      "cell_type": "markdown",
      "source": [
        "Structure of the data (number of rows, number of columns)"
      ],
      "metadata": {
        "id": "z9Xt1x1H9R94"
      }
    },
    {
      "cell_type": "code",
      "source": [
        "print(raw_data.shape)"
      ],
      "metadata": {
        "colab": {
          "base_uri": "https://localhost:8080/"
        },
        "id": "f12NT3NQ1hGV",
        "outputId": "40cff8e3-98fc-4c14-a0ea-d069b965ecb9"
      },
      "execution_count": 9,
      "outputs": [
        {
          "output_type": "stream",
          "name": "stdout",
          "text": [
            "(2225, 2)\n"
          ]
        }
      ]
    },
    {
      "cell_type": "markdown",
      "source": [
        "# Label Encoding"
      ],
      "metadata": {
        "id": "4Gu62_vOi46i"
      }
    },
    {
      "cell_type": "markdown",
      "source": [
        "Provides numberic labels to each category of news atricles"
      ],
      "metadata": {
        "id": "nv8e_IGO96gC"
      }
    },
    {
      "cell_type": "code",
      "source": [
        "from sklearn import preprocessing\n",
        "le = preprocessing.LabelEncoder()\n",
        "raw_data['Category_label'] = le.fit_transform(raw_data['Category'])"
      ],
      "metadata": {
        "id": "Am4XnOya8X4c"
      },
      "execution_count": 10,
      "outputs": []
    },
    {
      "cell_type": "code",
      "source": [
        "raw_data.head()"
      ],
      "metadata": {
        "colab": {
          "base_uri": "https://localhost:8080/",
          "height": 206
        },
        "id": "qRH5Ujvvlf_r",
        "outputId": "140fb650-32de-4487-9a03-9e33f547c732"
      },
      "execution_count": 11,
      "outputs": [
        {
          "output_type": "execute_result",
          "data": {
            "text/html": [
              "\n",
              "  <div id=\"df-07534242-6a4e-4685-b2f6-df6ab9342bcd\">\n",
              "    <div class=\"colab-df-container\">\n",
              "      <div>\n",
              "<style scoped>\n",
              "    .dataframe tbody tr th:only-of-type {\n",
              "        vertical-align: middle;\n",
              "    }\n",
              "\n",
              "    .dataframe tbody tr th {\n",
              "        vertical-align: top;\n",
              "    }\n",
              "\n",
              "    .dataframe thead th {\n",
              "        text-align: right;\n",
              "    }\n",
              "</style>\n",
              "<table border=\"1\" class=\"dataframe\">\n",
              "  <thead>\n",
              "    <tr style=\"text-align: right;\">\n",
              "      <th></th>\n",
              "      <th>Data</th>\n",
              "      <th>Category</th>\n",
              "      <th>Category_label</th>\n",
              "    </tr>\n",
              "  </thead>\n",
              "  <tbody>\n",
              "    <tr>\n",
              "      <th>0</th>\n",
              "      <td>Ad sales boost Time Warner profit\\n\\nQuarterly...</td>\n",
              "      <td>business</td>\n",
              "      <td>0</td>\n",
              "    </tr>\n",
              "    <tr>\n",
              "      <th>1</th>\n",
              "      <td>Dollar gains on Greenspan speech\\n\\nThe dollar...</td>\n",
              "      <td>business</td>\n",
              "      <td>0</td>\n",
              "    </tr>\n",
              "    <tr>\n",
              "      <th>2</th>\n",
              "      <td>Yukos unit buyer faces loan claim\\n\\nThe owner...</td>\n",
              "      <td>business</td>\n",
              "      <td>0</td>\n",
              "    </tr>\n",
              "    <tr>\n",
              "      <th>3</th>\n",
              "      <td>High fuel prices hit BA's profits\\n\\nBritish A...</td>\n",
              "      <td>business</td>\n",
              "      <td>0</td>\n",
              "    </tr>\n",
              "    <tr>\n",
              "      <th>4</th>\n",
              "      <td>Pernod takeover talk lifts Domecq\\n\\nShares in...</td>\n",
              "      <td>business</td>\n",
              "      <td>0</td>\n",
              "    </tr>\n",
              "  </tbody>\n",
              "</table>\n",
              "</div>\n",
              "      <button class=\"colab-df-convert\" onclick=\"convertToInteractive('df-07534242-6a4e-4685-b2f6-df6ab9342bcd')\"\n",
              "              title=\"Convert this dataframe to an interactive table.\"\n",
              "              style=\"display:none;\">\n",
              "        \n",
              "  <svg xmlns=\"http://www.w3.org/2000/svg\" height=\"24px\"viewBox=\"0 0 24 24\"\n",
              "       width=\"24px\">\n",
              "    <path d=\"M0 0h24v24H0V0z\" fill=\"none\"/>\n",
              "    <path d=\"M18.56 5.44l.94 2.06.94-2.06 2.06-.94-2.06-.94-.94-2.06-.94 2.06-2.06.94zm-11 1L8.5 8.5l.94-2.06 2.06-.94-2.06-.94L8.5 2.5l-.94 2.06-2.06.94zm10 10l.94 2.06.94-2.06 2.06-.94-2.06-.94-.94-2.06-.94 2.06-2.06.94z\"/><path d=\"M17.41 7.96l-1.37-1.37c-.4-.4-.92-.59-1.43-.59-.52 0-1.04.2-1.43.59L10.3 9.45l-7.72 7.72c-.78.78-.78 2.05 0 2.83L4 21.41c.39.39.9.59 1.41.59.51 0 1.02-.2 1.41-.59l7.78-7.78 2.81-2.81c.8-.78.8-2.07 0-2.86zM5.41 20L4 18.59l7.72-7.72 1.47 1.35L5.41 20z\"/>\n",
              "  </svg>\n",
              "      </button>\n",
              "      \n",
              "  <style>\n",
              "    .colab-df-container {\n",
              "      display:flex;\n",
              "      flex-wrap:wrap;\n",
              "      gap: 12px;\n",
              "    }\n",
              "\n",
              "    .colab-df-convert {\n",
              "      background-color: #E8F0FE;\n",
              "      border: none;\n",
              "      border-radius: 50%;\n",
              "      cursor: pointer;\n",
              "      display: none;\n",
              "      fill: #1967D2;\n",
              "      height: 32px;\n",
              "      padding: 0 0 0 0;\n",
              "      width: 32px;\n",
              "    }\n",
              "\n",
              "    .colab-df-convert:hover {\n",
              "      background-color: #E2EBFA;\n",
              "      box-shadow: 0px 1px 2px rgba(60, 64, 67, 0.3), 0px 1px 3px 1px rgba(60, 64, 67, 0.15);\n",
              "      fill: #174EA6;\n",
              "    }\n",
              "\n",
              "    [theme=dark] .colab-df-convert {\n",
              "      background-color: #3B4455;\n",
              "      fill: #D2E3FC;\n",
              "    }\n",
              "\n",
              "    [theme=dark] .colab-df-convert:hover {\n",
              "      background-color: #434B5C;\n",
              "      box-shadow: 0px 1px 3px 1px rgba(0, 0, 0, 0.15);\n",
              "      filter: drop-shadow(0px 1px 2px rgba(0, 0, 0, 0.3));\n",
              "      fill: #FFFFFF;\n",
              "    }\n",
              "  </style>\n",
              "\n",
              "      <script>\n",
              "        const buttonEl =\n",
              "          document.querySelector('#df-07534242-6a4e-4685-b2f6-df6ab9342bcd button.colab-df-convert');\n",
              "        buttonEl.style.display =\n",
              "          google.colab.kernel.accessAllowed ? 'block' : 'none';\n",
              "\n",
              "        async function convertToInteractive(key) {\n",
              "          const element = document.querySelector('#df-07534242-6a4e-4685-b2f6-df6ab9342bcd');\n",
              "          const dataTable =\n",
              "            await google.colab.kernel.invokeFunction('convertToInteractive',\n",
              "                                                     [key], {});\n",
              "          if (!dataTable) return;\n",
              "\n",
              "          const docLinkHtml = 'Like what you see? Visit the ' +\n",
              "            '<a target=\"_blank\" href=https://colab.research.google.com/notebooks/data_table.ipynb>data table notebook</a>'\n",
              "            + ' to learn more about interactive tables.';\n",
              "          element.innerHTML = '';\n",
              "          dataTable['output_type'] = 'display_data';\n",
              "          await google.colab.output.renderOutput(dataTable, element);\n",
              "          const docLink = document.createElement('div');\n",
              "          docLink.innerHTML = docLinkHtml;\n",
              "          element.appendChild(docLink);\n",
              "        }\n",
              "      </script>\n",
              "    </div>\n",
              "  </div>\n",
              "  "
            ],
            "text/plain": [
              "                                                Data  Category  Category_label\n",
              "0  Ad sales boost Time Warner profit\\n\\nQuarterly...  business               0\n",
              "1  Dollar gains on Greenspan speech\\n\\nThe dollar...  business               0\n",
              "2  Yukos unit buyer faces loan claim\\n\\nThe owner...  business               0\n",
              "3  High fuel prices hit BA's profits\\n\\nBritish A...  business               0\n",
              "4  Pernod takeover talk lifts Domecq\\n\\nShares in...  business               0"
            ]
          },
          "metadata": {},
          "execution_count": 11
        }
      ]
    },
    {
      "cell_type": "markdown",
      "source": [
        "Maps text category with its numeric form"
      ],
      "metadata": {
        "id": "FNgOUuUI-AOJ"
      }
    },
    {
      "cell_type": "code",
      "source": [
        "textlabels = {}\n",
        "for i in range(raw_data.shape[0]):\n",
        "  textlabels[raw_data['Category_label'][i]] = raw_data['Category'][i]\n",
        "print(textlabels)"
      ],
      "metadata": {
        "id": "D5-5pAgmnSW3",
        "colab": {
          "base_uri": "https://localhost:8080/"
        },
        "outputId": "346e80b7-ea41-41ef-8b45-6fe5dc4d415f"
      },
      "execution_count": 12,
      "outputs": [
        {
          "output_type": "stream",
          "name": "stdout",
          "text": [
            "{0: 'business', 1: 'entertainment', 2: 'politics', 3: 'sport', 4: 'tech'}\n"
          ]
        }
      ]
    },
    {
      "cell_type": "markdown",
      "source": [
        "# Data Pre-Process"
      ],
      "metadata": {
        "id": "rlMR72lAi-RT"
      }
    },
    {
      "cell_type": "code",
      "source": [
        "'''\n",
        "Pretreatment\n",
        ":parameter\n",
        "    :param text: String - the name of the column that contains the text\n",
        "    :param stopwords_list: List - list of stop words to delete\n",
        ":return\n",
        "    cleaned text\n",
        "'''\n",
        "def preprocess_text(text, stopwords_list=None):\n",
        "    #Clean (convert to lowercase and delete punctuation)\n",
        "    text = re.sub(r'[^\\w\\s]', '', str(text).lower().strip())\n",
        "            \n",
        "    #Tokenization (conversion from string to list)\n",
        "    lst_text = text.split()\n",
        "   \n",
        "    #Delete stop words\n",
        "    if stopwords_list is not None:\n",
        "      lst_text = [word for word in lst_text if word not in stopwords_list]\n",
        "\n",
        "    #Lemmatization\n",
        "    lem = nltk.stem.wordnet.WordNetLemmatizer()\n",
        "    lst_text = [lem.lemmatize(word) for word in lst_text]\n",
        "            \n",
        "    #Return to string from list\n",
        "    text = \" \".join(lst_text)\n",
        "    return text"
      ],
      "metadata": {
        "id": "jQSPrB25gjKo"
      },
      "execution_count": 13,
      "outputs": []
    },
    {
      "cell_type": "code",
      "source": [
        "#stopwords\n",
        "stopwordslist = nltk.corpus.stopwords.words(\"english\")"
      ],
      "metadata": {
        "id": "QCH-03UlhFab"
      },
      "execution_count": 14,
      "outputs": []
    },
    {
      "cell_type": "code",
      "source": [
        "#performs pre-processing of all the texts in the column 'Data'\n",
        "raw_data['Processed_Data'] = raw_data['Data'].apply(lambda x: preprocess_text(x, stopwords_list=stopwordslist))"
      ],
      "metadata": {
        "id": "IM_JnsZKhu_G"
      },
      "execution_count": 15,
      "outputs": []
    },
    {
      "cell_type": "code",
      "source": [
        "#prints first 5 rows of the dataset\n",
        "raw_data.head()"
      ],
      "metadata": {
        "colab": {
          "base_uri": "https://localhost:8080/",
          "height": 206
        },
        "id": "JuSEjVo-lzOW",
        "outputId": "e93ecc7e-e141-45bb-f98a-43f88dadc8df"
      },
      "execution_count": 16,
      "outputs": [
        {
          "output_type": "execute_result",
          "data": {
            "text/html": [
              "\n",
              "  <div id=\"df-a0e499d6-9236-4b00-8043-ecdb0a59450b\">\n",
              "    <div class=\"colab-df-container\">\n",
              "      <div>\n",
              "<style scoped>\n",
              "    .dataframe tbody tr th:only-of-type {\n",
              "        vertical-align: middle;\n",
              "    }\n",
              "\n",
              "    .dataframe tbody tr th {\n",
              "        vertical-align: top;\n",
              "    }\n",
              "\n",
              "    .dataframe thead th {\n",
              "        text-align: right;\n",
              "    }\n",
              "</style>\n",
              "<table border=\"1\" class=\"dataframe\">\n",
              "  <thead>\n",
              "    <tr style=\"text-align: right;\">\n",
              "      <th></th>\n",
              "      <th>Data</th>\n",
              "      <th>Category</th>\n",
              "      <th>Category_label</th>\n",
              "      <th>Processed_Data</th>\n",
              "    </tr>\n",
              "  </thead>\n",
              "  <tbody>\n",
              "    <tr>\n",
              "      <th>0</th>\n",
              "      <td>Ad sales boost Time Warner profit\\n\\nQuarterly...</td>\n",
              "      <td>business</td>\n",
              "      <td>0</td>\n",
              "      <td>ad sale boost time warner profit quarterly pro...</td>\n",
              "    </tr>\n",
              "    <tr>\n",
              "      <th>1</th>\n",
              "      <td>Dollar gains on Greenspan speech\\n\\nThe dollar...</td>\n",
              "      <td>business</td>\n",
              "      <td>0</td>\n",
              "      <td>dollar gain greenspan speech dollar hit highes...</td>\n",
              "    </tr>\n",
              "    <tr>\n",
              "      <th>2</th>\n",
              "      <td>Yukos unit buyer faces loan claim\\n\\nThe owner...</td>\n",
              "      <td>business</td>\n",
              "      <td>0</td>\n",
              "      <td>yukos unit buyer face loan claim owner embattl...</td>\n",
              "    </tr>\n",
              "    <tr>\n",
              "      <th>3</th>\n",
              "      <td>High fuel prices hit BA's profits\\n\\nBritish A...</td>\n",
              "      <td>business</td>\n",
              "      <td>0</td>\n",
              "      <td>high fuel price hit ba profit british airway b...</td>\n",
              "    </tr>\n",
              "    <tr>\n",
              "      <th>4</th>\n",
              "      <td>Pernod takeover talk lifts Domecq\\n\\nShares in...</td>\n",
              "      <td>business</td>\n",
              "      <td>0</td>\n",
              "      <td>pernod takeover talk lift domecq share uk drin...</td>\n",
              "    </tr>\n",
              "  </tbody>\n",
              "</table>\n",
              "</div>\n",
              "      <button class=\"colab-df-convert\" onclick=\"convertToInteractive('df-a0e499d6-9236-4b00-8043-ecdb0a59450b')\"\n",
              "              title=\"Convert this dataframe to an interactive table.\"\n",
              "              style=\"display:none;\">\n",
              "        \n",
              "  <svg xmlns=\"http://www.w3.org/2000/svg\" height=\"24px\"viewBox=\"0 0 24 24\"\n",
              "       width=\"24px\">\n",
              "    <path d=\"M0 0h24v24H0V0z\" fill=\"none\"/>\n",
              "    <path d=\"M18.56 5.44l.94 2.06.94-2.06 2.06-.94-2.06-.94-.94-2.06-.94 2.06-2.06.94zm-11 1L8.5 8.5l.94-2.06 2.06-.94-2.06-.94L8.5 2.5l-.94 2.06-2.06.94zm10 10l.94 2.06.94-2.06 2.06-.94-2.06-.94-.94-2.06-.94 2.06-2.06.94z\"/><path d=\"M17.41 7.96l-1.37-1.37c-.4-.4-.92-.59-1.43-.59-.52 0-1.04.2-1.43.59L10.3 9.45l-7.72 7.72c-.78.78-.78 2.05 0 2.83L4 21.41c.39.39.9.59 1.41.59.51 0 1.02-.2 1.41-.59l7.78-7.78 2.81-2.81c.8-.78.8-2.07 0-2.86zM5.41 20L4 18.59l7.72-7.72 1.47 1.35L5.41 20z\"/>\n",
              "  </svg>\n",
              "      </button>\n",
              "      \n",
              "  <style>\n",
              "    .colab-df-container {\n",
              "      display:flex;\n",
              "      flex-wrap:wrap;\n",
              "      gap: 12px;\n",
              "    }\n",
              "\n",
              "    .colab-df-convert {\n",
              "      background-color: #E8F0FE;\n",
              "      border: none;\n",
              "      border-radius: 50%;\n",
              "      cursor: pointer;\n",
              "      display: none;\n",
              "      fill: #1967D2;\n",
              "      height: 32px;\n",
              "      padding: 0 0 0 0;\n",
              "      width: 32px;\n",
              "    }\n",
              "\n",
              "    .colab-df-convert:hover {\n",
              "      background-color: #E2EBFA;\n",
              "      box-shadow: 0px 1px 2px rgba(60, 64, 67, 0.3), 0px 1px 3px 1px rgba(60, 64, 67, 0.15);\n",
              "      fill: #174EA6;\n",
              "    }\n",
              "\n",
              "    [theme=dark] .colab-df-convert {\n",
              "      background-color: #3B4455;\n",
              "      fill: #D2E3FC;\n",
              "    }\n",
              "\n",
              "    [theme=dark] .colab-df-convert:hover {\n",
              "      background-color: #434B5C;\n",
              "      box-shadow: 0px 1px 3px 1px rgba(0, 0, 0, 0.15);\n",
              "      filter: drop-shadow(0px 1px 2px rgba(0, 0, 0, 0.3));\n",
              "      fill: #FFFFFF;\n",
              "    }\n",
              "  </style>\n",
              "\n",
              "      <script>\n",
              "        const buttonEl =\n",
              "          document.querySelector('#df-a0e499d6-9236-4b00-8043-ecdb0a59450b button.colab-df-convert');\n",
              "        buttonEl.style.display =\n",
              "          google.colab.kernel.accessAllowed ? 'block' : 'none';\n",
              "\n",
              "        async function convertToInteractive(key) {\n",
              "          const element = document.querySelector('#df-a0e499d6-9236-4b00-8043-ecdb0a59450b');\n",
              "          const dataTable =\n",
              "            await google.colab.kernel.invokeFunction('convertToInteractive',\n",
              "                                                     [key], {});\n",
              "          if (!dataTable) return;\n",
              "\n",
              "          const docLinkHtml = 'Like what you see? Visit the ' +\n",
              "            '<a target=\"_blank\" href=https://colab.research.google.com/notebooks/data_table.ipynb>data table notebook</a>'\n",
              "            + ' to learn more about interactive tables.';\n",
              "          element.innerHTML = '';\n",
              "          dataTable['output_type'] = 'display_data';\n",
              "          await google.colab.output.renderOutput(dataTable, element);\n",
              "          const docLink = document.createElement('div');\n",
              "          docLink.innerHTML = docLinkHtml;\n",
              "          element.appendChild(docLink);\n",
              "        }\n",
              "      </script>\n",
              "    </div>\n",
              "  </div>\n",
              "  "
            ],
            "text/plain": [
              "                                                Data  Category  \\\n",
              "0  Ad sales boost Time Warner profit\\n\\nQuarterly...  business   \n",
              "1  Dollar gains on Greenspan speech\\n\\nThe dollar...  business   \n",
              "2  Yukos unit buyer faces loan claim\\n\\nThe owner...  business   \n",
              "3  High fuel prices hit BA's profits\\n\\nBritish A...  business   \n",
              "4  Pernod takeover talk lifts Domecq\\n\\nShares in...  business   \n",
              "\n",
              "   Category_label                                     Processed_Data  \n",
              "0               0  ad sale boost time warner profit quarterly pro...  \n",
              "1               0  dollar gain greenspan speech dollar hit highes...  \n",
              "2               0  yukos unit buyer face loan claim owner embattl...  \n",
              "3               0  high fuel price hit ba profit british airway b...  \n",
              "4               0  pernod takeover talk lift domecq share uk drin...  "
            ]
          },
          "metadata": {},
          "execution_count": 16
        }
      ]
    },
    {
      "cell_type": "markdown",
      "source": [
        "# train/dev/test split of 80%/10%/10%"
      ],
      "metadata": {
        "id": "BTNloHjrDQco"
      }
    },
    {
      "cell_type": "code",
      "source": [
        "#splits 80% of dataset into train set and rest 20% into development_test set\n",
        "x_train, x_dev_test, y_train, y_dev_test = train_test_split(raw_data['Processed_Data'], raw_data['Category_label'],test_size=0.2, random_state=42)\n",
        "\n",
        "#development_test set is split into equal halves of development set and test set, each having 10% of the original dataset\n",
        "x_dev, x_test, y_dev, y_test = train_test_split(x_dev_test,y_dev_test,test_size=0.5, random_state=42)"
      ],
      "metadata": {
        "id": "ik_W-aSP5Lgb"
      },
      "execution_count": 17,
      "outputs": []
    },
    {
      "cell_type": "code",
      "source": [
        "#converts all the dataset into an array\n",
        "x_train=np.array(x_train)\n",
        "x_train_dev=np.array(x_dev)\n",
        "x_test=np.array(x_test)\n",
        "y_train=np.array(y_train)\n",
        "y_train_dev=np.array(y_dev)\n",
        "y_test=np.array(y_test)"
      ],
      "metadata": {
        "id": "hW-hm2G37OaY"
      },
      "execution_count": 18,
      "outputs": []
    },
    {
      "cell_type": "markdown",
      "source": [
        "#Tuning number of features and feature selection methods using development set and model training - for each feature entity"
      ],
      "metadata": {
        "id": "w-GS9Oi9xDvn"
      }
    },
    {
      "cell_type": "markdown",
      "source": [
        "Count Feature Entity"
      ],
      "metadata": {
        "id": "DH9mBXdj8vwB"
      }
    },
    {
      "cell_type": "code",
      "source": [
        "# list of feature selection methods\n",
        "fs=[chi2,f_classif]\n",
        "fslist=['chi2','f_classif']\n",
        "\n",
        "# list of number of features\n",
        "klist=[1000,2000,3000,4000]\n",
        "\n",
        "#initially the best accuracy is assigned to 0\n",
        "b1=0.0\n",
        "\n",
        "#defining the count vectorizer for simple bag of words(unigrams)\n",
        "cvec=CountVectorizer(ngram_range=(1,1))\n",
        "\n",
        "#getting the vocabulary\n",
        "cvec.fit(x_train)\n",
        "\n",
        "#transforms all the text in training dataset into count document matrix\n",
        "x_train_c=cvec.transform(x_train).toarray()\n",
        "\n",
        "#transforms all the text in development dataset into count document matrix\n",
        "x_dev_c=cvec.transform(x_dev).toarray()\n",
        "\n",
        "#transforms all the text in testing dataset into count document matrix\n",
        "x_test_c=cvec.transform(x_test).toarray()\n",
        "\n",
        "for i in range(0,len(klist)):\n",
        "  for j in range(0,len(fs)):\n",
        "  \n",
        "    #selects k best features\n",
        "    c_selector = SelectKBest(fs[j], k=min(klist[i], x_train_c.shape[1]))\n",
        "    c_selector.fit(x_train_c, y_train)\n",
        "\n",
        "    #Reduces the number of features in train document matrix to k best features\n",
        "    x_train_cvec = c_selector.transform(x_train_c)\n",
        "\n",
        "    #Reduces the number of features in development document matrix to k best features\n",
        "    x_dev_cvec = c_selector.transform(x_dev_c)\n",
        "\n",
        "    #Defines Logistic Regression model\n",
        "    model = LogisticRegression(max_iter=200,random_state=42)\n",
        "\n",
        "    #trains the model\n",
        "    model.fit(x_train_cvec,y_train)\n",
        "\n",
        "    #making predictions using development document matrix\n",
        "    y_dev_pred=model.predict(x_dev_cvec)\n",
        "\n",
        "    #calculating accuracy\n",
        "    accuracy=(accuracy_score(y_dev,y_dev_pred))*100\n",
        "\n",
        "    print('Number of Features = {} '.format(klist[i]),end=' ')\n",
        "    print('Feature Selection = {} '.format(fslist[j]),end=' ')\n",
        "    print('Accuracy = {} '.format(accuracy))\n",
        "\n",
        "    #comparing the accuracy with best accuracy\n",
        "    if b1<accuracy:\n",
        "      if abs(b1-accuracy)>=1: # ignores if very small changes are made in the accuracy\n",
        "        b1=accuracy\n",
        "        k1=klist[i]\n",
        "        fs1=j\n",
        "        opt_c_model=model #best model (Model-1)\n",
        "        opt_c_selector=c_selector #best k features selector\n",
        "\n",
        "  print()\n",
        "\n",
        "print('For count feature entity:')\n",
        "print('   Optimum Number of Features = {}'.format(k1))\n",
        "print('   Optimum Feature Selection  = {}'.format(fslist[fs1]))\n",
        "fs1=fs[fs1]"
      ],
      "metadata": {
        "colab": {
          "base_uri": "https://localhost:8080/"
        },
        "id": "q79H_j2KxCXA",
        "outputId": "ca6f25a6-c456-4e7f-f271-8fcef1453595"
      },
      "execution_count": 19,
      "outputs": [
        {
          "output_type": "stream",
          "name": "stdout",
          "text": [
            "Number of Features = 1000  Feature Selection = chi2  Accuracy = 95.4954954954955 \n",
            "Number of Features = 1000  Feature Selection = f_classif  Accuracy = 95.04504504504504 \n",
            "\n",
            "Number of Features = 2000  Feature Selection = chi2  Accuracy = 95.94594594594594 \n",
            "Number of Features = 2000  Feature Selection = f_classif  Accuracy = 95.94594594594594 \n",
            "\n",
            "Number of Features = 3000  Feature Selection = chi2  Accuracy = 95.94594594594594 \n",
            "Number of Features = 3000  Feature Selection = f_classif  Accuracy = 95.4954954954955 \n",
            "\n",
            "Number of Features = 4000  Feature Selection = chi2  Accuracy = 96.3963963963964 \n",
            "Number of Features = 4000  Feature Selection = f_classif  Accuracy = 95.94594594594594 \n",
            "\n",
            "For count feature entity:\n",
            "   Optimum Number of Features = 1000\n",
            "   Optimum Feature Selection  = chi2\n"
          ]
        }
      ]
    },
    {
      "cell_type": "markdown",
      "source": [
        "One-hot feature entity"
      ],
      "metadata": {
        "id": "3GqQIw3nO2LH"
      }
    },
    {
      "cell_type": "code",
      "source": [
        "#initially the best accuracy is assigned to 0\n",
        "b2=0.0\n",
        "\n",
        "# copies train count document matrix\n",
        "x_train_o=x_train_c.copy()\n",
        "\n",
        "# copies development count document matrix\n",
        "x_dev_o=x_dev_c.copy()\n",
        "\n",
        "# copies test count document matrix\n",
        "x_test_o=x_test_c.copy()\n",
        "\n",
        "#changes all the values which are greater than or equal to 1 in train document matrix to 1\n",
        "row=(x_train_o.shape)[0]\n",
        "col=(x_train_o.shape)[1]\n",
        "for m in range(0,row):\n",
        "  for n in range(0,col):\n",
        "    if(x_train_o[m][n]>1):\n",
        "      x_train_o[m][n]=1\n",
        "\n",
        "#changes all the values which are greater than or equal to 1 in development document matrix to 1\n",
        "devrow=(x_dev_o.shape)[0]\n",
        "devcol=(x_dev_o.shape)[1]\n",
        "for m in range(0,devrow):\n",
        "  for n in range(0,devcol):\n",
        "    if(x_dev_o[m][n]>1):\n",
        "      x_dev_o[m][n]=1\n",
        "\n",
        "#changes all the values which are greater than or equal to 1 in test document matrix to 1\n",
        "testrow=(x_test_o.shape)[0]\n",
        "testcol=(x_test_o.shape)[1]\n",
        "for m in range(0,testrow):\n",
        "  for n in range(0,testcol):\n",
        "    if(x_test_o[m][n]>1):\n",
        "      x_test_o[m][n]=1\n",
        "\n",
        "for i in range(0,len(klist)):\n",
        "  for j in range(0,len(fs)):\n",
        "\n",
        "    #selects k best features\n",
        "    o_selector = SelectKBest(fs[j], k=min(klist[i], x_train_o.shape[1]))\n",
        "    o_selector.fit(x_train_o, y_train)\n",
        "\n",
        "    #Reduces the number of features in train document matrix to k best features\n",
        "    x_train_ovec = o_selector.transform(x_train_o)\n",
        "\n",
        "    #Reduces the number of features in development document matrix to k best features\n",
        "    x_dev_ovec = o_selector.transform(x_dev_o)\n",
        "\n",
        "    #Defines Logistic Regression model\n",
        "    o_model = LogisticRegression(random_state=42)\n",
        "\n",
        "    #trains the model\n",
        "    o_model.fit(x_train_ovec,y_train)\n",
        "\n",
        "    #making predictions using development document matrix\n",
        "    y_o_dev_pred=o_model.predict(x_dev_ovec)\n",
        "\n",
        "    #calculating accuracy\n",
        "    accuracy=(accuracy_score(y_dev,y_o_dev_pred))*100\n",
        "\n",
        "    print('Number of Features = {} '.format(klist[i]),end=' ')\n",
        "    print('Feature Selection = {} '.format(fslist[j]),end=' ')\n",
        "    print('Accuracy = {} '.format(accuracy))\n",
        "\n",
        "    #comparing the accuracy with best accuracy\n",
        "    if b2<accuracy:\n",
        "      if abs(b2-accuracy)>=1: # ignores if very small changes are made in the accuracy\n",
        "        b2=accuracy\n",
        "        k2=klist[i]\n",
        "        fs2=j\n",
        "        opt_o_model=o_model #best model (Model-2)\n",
        "        opt_o_selector=o_selector #best k features selector\n",
        "    \n",
        "  print()\n",
        "\n",
        "print('For one-hot feature entity:')\n",
        "print('   Optimum Number of Features = {}'.format(k2))\n",
        "print('   Optimum Feature Selection  = {}'.format(fslist[fs2]))\n",
        "fs2=fs[fs2]"
      ],
      "metadata": {
        "colab": {
          "base_uri": "https://localhost:8080/"
        },
        "id": "ZPFx1dqN_3gp",
        "outputId": "d256a61e-94a5-4120-d3b4-12665cdd06d2"
      },
      "execution_count": 20,
      "outputs": [
        {
          "output_type": "stream",
          "name": "stdout",
          "text": [
            "Number of Features = 1000  Feature Selection = chi2  Accuracy = 96.84684684684684 \n",
            "Number of Features = 1000  Feature Selection = f_classif  Accuracy = 97.2972972972973 \n",
            "\n",
            "Number of Features = 2000  Feature Selection = chi2  Accuracy = 96.3963963963964 \n",
            "Number of Features = 2000  Feature Selection = f_classif  Accuracy = 96.84684684684684 \n",
            "\n",
            "Number of Features = 3000  Feature Selection = chi2  Accuracy = 96.84684684684684 \n",
            "Number of Features = 3000  Feature Selection = f_classif  Accuracy = 96.84684684684684 \n",
            "\n",
            "Number of Features = 4000  Feature Selection = chi2  Accuracy = 96.84684684684684 \n",
            "Number of Features = 4000  Feature Selection = f_classif  Accuracy = 96.84684684684684 \n",
            "\n",
            "For one-hot feature entity:\n",
            "   Optimum Number of Features = 1000\n",
            "   Optimum Feature Selection  = chi2\n"
          ]
        }
      ]
    },
    {
      "cell_type": "markdown",
      "source": [
        "Tf-idf feature entity"
      ],
      "metadata": {
        "id": "lIqKJhsu8sfB"
      }
    },
    {
      "cell_type": "code",
      "source": [
        "#initially the best accuracy is assigned to 0\n",
        "b3=0.0\n",
        "\n",
        "#defining the tf-idf vectorizer for simple bag of words(unigrams)\n",
        "tvec=TfidfVectorizer(ngram_range=(1,1))\n",
        "\n",
        "#getting the vocabulary\n",
        "tvec.fit(x_train)\n",
        "\n",
        "#transforms all the text in training dataset into tf-idf document matrix\n",
        "x_train_t=tvec.transform(x_train).toarray()\n",
        "\n",
        "#transforms all the text in development dataset into tf-idf document matrix\n",
        "x_dev_t=tvec.transform(x_dev).toarray()\n",
        "\n",
        "#transforms all the text in testing dataset into tf-idf document matrix\n",
        "x_test_t=tvec.transform(x_test).toarray()\n",
        "\n",
        "for i in range(0,len(klist)):\n",
        "  for j in range(0,len(fs)):\n",
        "  \n",
        "    #selects k best features\n",
        "    t_selector = SelectKBest(fs[j], k=min(klist[i], x_train_t.shape[1]))\n",
        "    t_selector.fit(x_train_t, y_train)\n",
        "\n",
        "    #Reduces the number of features in train document matrix to k best features\n",
        "    x_train_tvec = t_selector.transform(x_train_t)\n",
        "\n",
        "    #Reduces the number of features in development document matrix to k best features\n",
        "    x_dev_tvec = t_selector.transform(x_dev_t)\n",
        "\n",
        "    #Defines Logistic Regression model\n",
        "    t_model = LogisticRegression(random_state=42)\n",
        "\n",
        "    #trains the model\n",
        "    t_model.fit(x_train_tvec,y_train)\n",
        "    \n",
        "    #making predictions using development document matrix\n",
        "    y_t_dev_pred=t_model.predict(x_dev_tvec)\n",
        "\n",
        "    #calculating accuracy\n",
        "    accuracy=(accuracy_score(y_dev,y_t_dev_pred))*100\n",
        "\n",
        "    print('Number of Features = {} '.format(klist[i]),end=' ')\n",
        "    print('Feature Selection = {} '.format(fslist[j]),end=' ')\n",
        "    print('Accuracy = {} '.format(accuracy))\n",
        "\n",
        "    #comparing the accuracy with best accuracy\n",
        "    if b3<accuracy:\n",
        "      if abs(b3-accuracy)>=1: # ignores if very small changes are made in the accuracy\n",
        "        b3=accuracy\n",
        "        k3=klist[i]\n",
        "        fs3=j\n",
        "        opt_t_model=t_model #best model (Model-3)\n",
        "        opt_t_selector=t_selector #best k features selector\n",
        "\n",
        "  print()\n",
        "\n",
        "print('For tf-idf feature entity:')\n",
        "print('   Optimum Number of Features = {}'.format(k3))\n",
        "print('   Optimum Feature Selection  = {}'.format(fslist[fs3])) \n",
        "fs3=fs[fs3]"
      ],
      "metadata": {
        "colab": {
          "base_uri": "https://localhost:8080/"
        },
        "id": "9O1jI21X8qH5",
        "outputId": "94291a7f-5ba6-43c9-ace3-c2b345a2706e"
      },
      "execution_count": 21,
      "outputs": [
        {
          "output_type": "stream",
          "name": "stdout",
          "text": [
            "Number of Features = 1000  Feature Selection = chi2  Accuracy = 95.4954954954955 \n",
            "Number of Features = 1000  Feature Selection = f_classif  Accuracy = 95.04504504504504 \n",
            "\n",
            "Number of Features = 2000  Feature Selection = chi2  Accuracy = 95.94594594594594 \n",
            "Number of Features = 2000  Feature Selection = f_classif  Accuracy = 95.94594594594594 \n",
            "\n",
            "Number of Features = 3000  Feature Selection = chi2  Accuracy = 95.94594594594594 \n",
            "Number of Features = 3000  Feature Selection = f_classif  Accuracy = 95.94594594594594 \n",
            "\n",
            "Number of Features = 4000  Feature Selection = chi2  Accuracy = 96.3963963963964 \n",
            "Number of Features = 4000  Feature Selection = f_classif  Accuracy = 95.4954954954955 \n",
            "\n",
            "For tf-idf feature entity:\n",
            "   Optimum Number of Features = 1000\n",
            "   Optimum Feature Selection  = chi2\n"
          ]
        }
      ]
    },
    {
      "cell_type": "markdown",
      "source": [
        "# Making predictions using test Set"
      ],
      "metadata": {
        "id": "Zzw6rhBWL7lp"
      }
    },
    {
      "cell_type": "markdown",
      "source": [
        "Prediction from Model 1\n"
      ],
      "metadata": {
        "id": "KNhTF8PcRC89"
      }
    },
    {
      "cell_type": "code",
      "source": [
        "#Reduces the number of features in test count document matrix to k best count features\n",
        "x_test_cvec = opt_c_selector.transform(x_test_c)\n",
        "\n",
        "#making predictions using reduced test count document matrix\n",
        "y_c_test_pred=opt_c_model.predict(x_test_cvec)\n",
        "\n",
        "#calculating the accuracy of model-1\n",
        "accuracy1=(accuracy_score(y_test,y_c_test_pred))*100"
      ],
      "metadata": {
        "id": "OVCGEbrXjZRM"
      },
      "execution_count": 22,
      "outputs": []
    },
    {
      "cell_type": "markdown",
      "source": [
        "Prediction from Model 2"
      ],
      "metadata": {
        "id": "1cVJhUgZRMnU"
      }
    },
    {
      "cell_type": "code",
      "source": [
        "#Reduces the number of features in test one-hot document matrix to k best one-hot features\n",
        "x_test_ovec = opt_o_selector.transform(x_test_o)\n",
        "\n",
        "#making predictions using reduced test one-hot document matrix\n",
        "y_o_test_pred=opt_o_model.predict(x_test_ovec)\n",
        "\n",
        "#calculating the accuracy of model-2\n",
        "accuracy2=(accuracy_score(y_test,y_o_test_pred))*100"
      ],
      "metadata": {
        "id": "c0QXVLArOqXZ"
      },
      "execution_count": 23,
      "outputs": []
    },
    {
      "cell_type": "markdown",
      "source": [
        "Prediction from Model 3"
      ],
      "metadata": {
        "id": "lqnniOpDROlp"
      }
    },
    {
      "cell_type": "code",
      "source": [
        "#Reduces the number of features in test tf-idf document matrix to k best tf-idf features\n",
        "x_test_tvec = opt_t_selector.transform(x_test_t)\n",
        "\n",
        "#making predictions using reduced test tf-idf document matrix\n",
        "y_t_test_pred=opt_t_model.predict(x_test_tvec)\n",
        "\n",
        "#calculating the accuracy of model-3\n",
        "accuracy3=(accuracy_score(y_test,y_t_test_pred))*100"
      ],
      "metadata": {
        "id": "-nfbCd7SOT50"
      },
      "execution_count": 24,
      "outputs": []
    },
    {
      "cell_type": "markdown",
      "source": [
        "# Final Prediction: Combining the results of Model 1, 2 and 3 (Majority Voting)"
      ],
      "metadata": {
        "id": "19wJC5H8Q2zY"
      }
    },
    {
      "cell_type": "code",
      "source": [
        "pred_size=(y_test.shape)[0]\n",
        "\n",
        "final_pred=[]\n",
        "\n",
        "#determines which type of the news aricles has maximum votes from the predictions made by model-1,2,3 for every prediction\n",
        "for i in range(0,pred_size):\n",
        "  countlabels = {0:0,1:0,2:0,3:0,4:0}\n",
        "  countlabels[y_c_test_pred[i]]=countlabels[y_c_test_pred[i]]+1\n",
        "  countlabels[y_t_test_pred[i]]=countlabels[y_t_test_pred[i]]+1\n",
        "  countlabels[y_o_test_pred[i]]=countlabels[y_o_test_pred[i]]+1\n",
        "  final_pred.append(max(countlabels,key=countlabels.get))\n",
        "final_pred=np.array(final_pred)\n",
        "\n",
        "#calculates the accuracy of the combined model\n",
        "final_accuracy=accuracy_score(y_test, final_pred)*100"
      ],
      "metadata": {
        "id": "CgUkOAUbPE_F"
      },
      "execution_count": 25,
      "outputs": []
    },
    {
      "cell_type": "markdown",
      "source": [
        "# Accuracy of Model 1, 2, 3 and Accuracy of model combiner"
      ],
      "metadata": {
        "id": "a4bXMj_dX_Ly"
      }
    },
    {
      "cell_type": "code",
      "source": [
        "print('Accuracy of Model 1        : {} %'.format(round(accuracy1,2)))\n",
        "print('Accuracy of Model 2        : {} %'.format(round(accuracy2,2)))\n",
        "print('Accuracy of Model 3        : {} %'.format(round(accuracy3,2)))\n",
        "print('Accuracy of Model Combiner : {} %'.format(round(final_accuracy,2)))"
      ],
      "metadata": {
        "colab": {
          "base_uri": "https://localhost:8080/"
        },
        "id": "tvyv6jSeUd0a",
        "outputId": "5576bb68-715d-4281-f52e-7bd8804390a4"
      },
      "execution_count": 26,
      "outputs": [
        {
          "output_type": "stream",
          "name": "stdout",
          "text": [
            "Accuracy of Model 1        : 96.41 %\n",
            "Accuracy of Model 2        : 96.41 %\n",
            "Accuracy of Model 3        : 95.96 %\n",
            "Accuracy of Model Combiner : 96.86 %\n"
          ]
        }
      ]
    },
    {
      "cell_type": "markdown",
      "source": [
        "# Macro-Averaged Precision, Macro-Averaged Recall, Macro-Averaged F1_Score"
      ],
      "metadata": {
        "id": "s7fzUobbTciO"
      }
    },
    {
      "cell_type": "code",
      "source": [
        "precision=precision_score(y_test, final_pred, average='macro')\n",
        "recall=recall_score(y_test, final_pred, average='macro')\n",
        "f1=f1_score(y_test, final_pred, average='macro')\n",
        "\n",
        "\n",
        "print (\"Macro-Averaged Precision : {} %\".format(round(precision*100,2)))\n",
        "print (\"Macro-Averaged Recall    : {} %\".format(round(recall*100,2)))\n",
        "print (\"Macro-Averaged F1-Score  : {} %\".format(round(f1*100,2)))"
      ],
      "metadata": {
        "colab": {
          "base_uri": "https://localhost:8080/"
        },
        "id": "OJNFsj9gRmry",
        "outputId": "ad565a1b-3938-4131-9b99-fa93efab2fac"
      },
      "execution_count": 27,
      "outputs": [
        {
          "output_type": "stream",
          "name": "stdout",
          "text": [
            "Macro-Averaged Precision : 97.11 %\n",
            "Macro-Averaged Recall    : 96.78 %\n",
            "Macro-Averaged F1-Score  : 96.93 %\n"
          ]
        }
      ]
    }
  ]
}